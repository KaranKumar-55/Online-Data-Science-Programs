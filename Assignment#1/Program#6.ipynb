{
 "cells": [
  {
   "cell_type": "code",
   "execution_count": null,
   "id": "8a2fe482",
   "metadata": {},
   "outputs": [],
   "source": [
    "x,y=(int(x) for x in input(\"Enter two values: \").split(\" \")) \n",
    "print(\"x+y= \",x+y)"
   ]
  },
  {
   "cell_type": "code",
   "execution_count": null,
   "id": "c3b9e577",
   "metadata": {},
   "outputs": [],
   "source": []
  }
 ],
 "metadata": {
  "kernelspec": {
   "display_name": "Python 3 (ipykernel)",
   "language": "python",
   "name": "python3"
  },
  "language_info": {
   "codemirror_mode": {
    "name": "ipython",
    "version": 3
   },
   "file_extension": ".py",
   "mimetype": "text/x-python",
   "name": "python",
   "nbconvert_exporter": "python",
   "pygments_lexer": "ipython3",
   "version": "3.9.7"
  }
 },
 "nbformat": 4,
 "nbformat_minor": 5
}
