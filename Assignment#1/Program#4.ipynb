{
 "cells": [
  {
   "cell_type": "code",
   "execution_count": 4,
   "id": "12a28a55",
   "metadata": {},
   "outputs": [
    {
     "name": "stdout",
     "output_type": "stream",
     "text": [
      "Input the Radius of a Circle: 2\n",
      "The Radius of Circle is '12.5664' meter_square\n"
     ]
    }
   ],
   "source": [
    "radius=eval(input(\"Input the Radius of a Circle: \"))\n",
    "Area= 3.1416*radius**2 \n",
    "print(\"The Radius of Circle is '{}' meter_square\".format(Area))"
   ]
  },
  {
   "cell_type": "code",
   "execution_count": null,
   "id": "8f716a57",
   "metadata": {},
   "outputs": [],
   "source": []
  }
 ],
 "metadata": {
  "kernelspec": {
   "display_name": "Python 3 (ipykernel)",
   "language": "python",
   "name": "python3"
  },
  "language_info": {
   "codemirror_mode": {
    "name": "ipython",
    "version": 3
   },
   "file_extension": ".py",
   "mimetype": "text/x-python",
   "name": "python",
   "nbconvert_exporter": "python",
   "pygments_lexer": "ipython3",
   "version": "3.9.7"
  }
 },
 "nbformat": 4,
 "nbformat_minor": 5
}
