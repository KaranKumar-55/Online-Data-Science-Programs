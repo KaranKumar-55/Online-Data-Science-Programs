{
 "cells": [
  {
   "cell_type": "code",
   "execution_count": 3,
   "id": "bd413d1a",
   "metadata": {},
   "outputs": [
    {
     "name": "stdout",
     "output_type": "stream",
     "text": [
      "Input First Name: Karan\n",
      "Input Last Name: Kumar\n",
      "Karan Kumar\n",
      "After Reverse: \n",
      "Kumar Karan\n"
     ]
    }
   ],
   "source": [
    "First_N=input(\"Input First Name: \")\n",
    "Last_N=input(\"Input Last Name: \")\n",
    "print(\"{} {}\".format(First_N,Last_N))\n",
    "print(\"After Reverse: \")\n",
    "print(\"{} {}\".format(Last_N,First_N))"
   ]
  },
  {
   "cell_type": "code",
   "execution_count": null,
   "id": "a58f3a78",
   "metadata": {},
   "outputs": [],
   "source": []
  }
 ],
 "metadata": {
  "kernelspec": {
   "display_name": "Python 3 (ipykernel)",
   "language": "python",
   "name": "python3"
  },
  "language_info": {
   "codemirror_mode": {
    "name": "ipython",
    "version": 3
   },
   "file_extension": ".py",
   "mimetype": "text/x-python",
   "name": "python",
   "nbconvert_exporter": "python",
   "pygments_lexer": "ipython3",
   "version": "3.9.7"
  }
 },
 "nbformat": 4,
 "nbformat_minor": 5
}
